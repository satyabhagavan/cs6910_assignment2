{
  "nbformat": 4,
  "nbformat_minor": 0,
  "metadata": {
    "colab": {
      "provenance": []
    },
    "kernelspec": {
      "name": "python3",
      "display_name": "Python 3"
    },
    "language_info": {
      "name": "python"
    }
  },
  "cells": [
    {
      "cell_type": "code",
      "execution_count": null,
      "metadata": {
        "id": "pSP7WQk_qvrE"
      },
      "outputs": [],
      "source": [
        "import torch\n",
        "import numpy as np"
      ]
    },
    {
      "cell_type": "code",
      "source": [
        "data = [[1, 2],[3, 4]]\n",
        "x_data = torch.tensor(data)"
      ],
      "metadata": {
        "id": "u4gpELAqrx1Y"
      },
      "execution_count": null,
      "outputs": []
    },
    {
      "cell_type": "code",
      "source": [
        "# for downloading the data and unziping it\n",
        "!wget https://storage.googleapis.com/wandb_datasets/nature_12K.zip -O nature_12K.zip\n",
        "!unzip -q nature_12K.zip"
      ],
      "metadata": {
        "id": "rkO63GOjsswA",
        "colab": {
          "base_uri": "https://localhost:8080/"
        },
        "outputId": "167bac0e-a216-414c-b3fc-7fb68b20da93"
      },
      "execution_count": null,
      "outputs": [
        {
          "output_type": "stream",
          "name": "stdout",
          "text": [
            "--2024-03-24 15:44:50--  https://storage.googleapis.com/wandb_datasets/nature_12K.zip\n",
            "Resolving storage.googleapis.com (storage.googleapis.com)... 142.251.170.207, 173.194.174.207, 74.125.23.207, ...\n",
            "Connecting to storage.googleapis.com (storage.googleapis.com)|142.251.170.207|:443... connected.\n",
            "HTTP request sent, awaiting response... 200 OK\n",
            "Length: 3816687935 (3.6G) [application/zip]\n",
            "Saving to: ‘nature_12K.zip’\n",
            "\n",
            "nature_12K.zip      100%[===================>]   3.55G  21.8MB/s    in 2m 56s  \n",
            "\n",
            "2024-03-24 15:47:46 (20.7 MB/s) - ‘nature_12K.zip’ saved [3816687935/3816687935]\n",
            "\n"
          ]
        }
      ]
    },
    {
      "cell_type": "code",
      "source": [
        "classes = [\"Amphibia\", \"Animalia\", \"Arachnida\", \"Aves\", \"Fungi\", \"Insecta\", \"Mammalia\", \"Mollusca\", \"Plantae\", \"Reptilia\"]\n"
      ],
      "metadata": {
        "id": "By4YOMzbs_6d"
      },
      "execution_count": null,
      "outputs": []
    },
    {
      "cell_type": "code",
      "source": [
        "import os\n",
        "\n",
        "def count_images(root_dir):\n",
        "    for dir_name, _, file_list in os.walk(root_dir):\n",
        "        print(f\"{dir_name}: {len(file_list)} images\")\n",
        "\n",
        "# Assuming the base directory is 'inaturalist_12K'\n",
        "base_dir = 'inaturalist_12K'\n",
        "\n",
        "count_images(os.path.join(base_dir, 'train'))\n",
        "count_images(os.path.join(base_dir, 'val'))\n",
        "\n"
      ],
      "metadata": {
        "colab": {
          "base_uri": "https://localhost:8080/"
        },
        "id": "b23ynTApuJZi",
        "outputId": "993b108e-5a60-4980-e16d-5ce2ffc94106"
      },
      "execution_count": null,
      "outputs": [
        {
          "output_type": "stream",
          "name": "stdout",
          "text": [
            "inaturalist_12K/train: 1 images\n",
            "inaturalist_12K/train/Amphibia: 1000 images\n",
            "inaturalist_12K/train/Arachnida: 1000 images\n",
            "inaturalist_12K/train/Mammalia: 1000 images\n",
            "inaturalist_12K/train/Mollusca: 1000 images\n",
            "inaturalist_12K/train/Reptilia: 1000 images\n",
            "inaturalist_12K/train/Insecta: 1000 images\n",
            "inaturalist_12K/train/Animalia: 1000 images\n",
            "inaturalist_12K/train/Aves: 1000 images\n",
            "inaturalist_12K/train/Plantae: 1000 images\n",
            "inaturalist_12K/train/Fungi: 1000 images\n",
            "inaturalist_12K/val: 0 images\n",
            "inaturalist_12K/val/Amphibia: 200 images\n",
            "inaturalist_12K/val/Arachnida: 200 images\n",
            "inaturalist_12K/val/Mammalia: 200 images\n",
            "inaturalist_12K/val/Mollusca: 200 images\n",
            "inaturalist_12K/val/Reptilia: 200 images\n",
            "inaturalist_12K/val/Insecta: 200 images\n",
            "inaturalist_12K/val/Animalia: 200 images\n",
            "inaturalist_12K/val/Aves: 200 images\n",
            "inaturalist_12K/val/Plantae: 200 images\n",
            "inaturalist_12K/val/Fungi: 200 images\n"
          ]
        }
      ]
    },
    {
      "cell_type": "code",
      "source": [],
      "metadata": {
        "id": "ke0l8Q0SrtTG"
      },
      "execution_count": null,
      "outputs": []
    }
  ]
}